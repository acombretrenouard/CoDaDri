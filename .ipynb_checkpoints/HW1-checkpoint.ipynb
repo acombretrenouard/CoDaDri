{
 "cells": [
  {
   "cell_type": "markdown",
   "metadata": {
    "id": "WTU3bQjbhHNG",
    "nbpresent": {
     "id": "41110e57-97d0-4804-9dd1-1b45e3b94408"
    }
   },
   "source": [
    "# <center> Homework : Errors in Markov Chains and PageRank</center>\n",
    "# <center> *Antoine COMBRET--RENOUARD* </center>\n",
    "\n",
    "\n",
    "\n",
    "The goal of this homework is twofold: in the first part you should evaluate errors in Markov chain Monte Carlo. In the second part you study PageRank algorithm."
   ]
  },
  {
   "cell_type": "markdown",
   "metadata": {
    "id": "yzPYxUYZhHNI"
   },
   "source": [
    "## <center> Part I: Markov Chain Monte Carlo</center>"
   ]
  },
  {
   "cell_type": "markdown",
   "metadata": {
    "id": "guBR-OgJhHNK",
    "nbpresent": {
     "id": "f2f60dbd-7be9-4de7-927a-010e92eae10d"
    }
   },
   "source": [
    "### **A particle on the top of a Mexican hat**\n",
    "\n",
    "We consider a particle on the xy plane confined by a two dimensional external potential:\n",
    "$$V(\\vec{r}) = r^4 - 8 r^2$$\n",
    "where $\\vec{r}=(x,y)$ and $r=\\sqrt{x^2+y^2}$ identifies the particle position and its distance from the origin. We assume the particle is in equilibrium at temperature $T=1$ and then described by the Boltzmann weight:\n",
    "$$\\pi(\\vec{r}) \\propto e^{-V(\\vec{r})}$$\n",
    "We are interested on two quantities: \n",
    "\n",
    "* Observable A: the average distance from the origin $\\langle r\\rangle$. \n",
    "\n",
    "* Observable B: the average horizontal coordinate $\\langle x \\rangle$.\n",
    "\n",
    "with\n",
    "$$ \\langle \\ldots \\rangle = \\frac{\\int d \\vec{r} \\ldots e^{-V(\\vec{r})}}{\\int d \\vec{r} e^{-V(\\vec{r})}}$$\n",
    "\n",
    "\n",
    "### **The Markov Chain Algorithm**\n",
    "\n",
    "Write a Metropolis algorithm sampling the particle position $\\vec{r}$: \n",
    "\n",
    "* Set the particle jump uniformly distributed inside a square of side 2 using python function random.uniform(-1,1) \n",
    "\n",
    "* Run a unique long simulation and record at least $N_{\\text{trials}}=2^{20}$ positions $\\vec{r}$.\n"
   ]
  },
  {
   "cell_type": "markdown",
   "metadata": {
    "id": "BqfHpEzMhHNN"
   },
   "source": [
    "### <center> Questions</center>\n",
    "\n",
    "* **Question 1**: Implement the correct Metropolis Algorithm. Show the histograms of the two observables."
   ]
  },
  {
   "cell_type": "markdown",
   "metadata": {
    "id": "c44R9vPyhHNO"
   },
   "source": [
    "#### Answer space \n",
    "\n",
    "A program and two labeled figures are expected to answer this question.\n",
    "\n",
    "----------------------------------------------------------------------------------------------"
   ]
  },
  {
   "cell_type": "code",
   "execution_count": 2,
   "metadata": {},
   "outputs": [],
   "source": [
    "# question 1\n",
    "\n",
    "# imports\n",
    "import numpy as np\n",
    "import matplotlib.pyplot as plt\n",
    "import matplotlib.cm # matplotlib colormaps\n",
    "from mpl_toolkits.axes_grid1 import make_axes_locatable # for plt.colorbar axes positionning\n",
    "import matplotlib.colors as colors\n",
    "\n",
    "plt.rcParams['text.usetex'] = True"
   ]
  },
  {
   "cell_type": "code",
   "execution_count": 3,
   "metadata": {},
   "outputs": [
    {
     "name": "stdout",
     "output_type": "stream",
     "text": [
      "Average r : 1.9920178140417337\n",
      "Average x : 0.018264390548905027\n",
      "----\n",
      "Done\n"
     ]
    }
   ],
   "source": [
    "# question 1\n",
    "\n",
    "# utility functions\n",
    "def weight(r) :\n",
    "    \"\"\"Returns the Boltzman weight of position r (2D array)\"\"\"\n",
    "    return np.exp(-(np.linalg.norm(r)**4 - 8*np.linalg.norm(r)**2))\n",
    "\n",
    "def jump() :\n",
    "    \"\"\"Returns a random vector within the [-1, 1[ x [-1, 1[ square\"\"\"\n",
    "    return np.random.uniform(-1, 1, size=2)\n",
    "\n",
    "# initialise\n",
    "N_trials = 2**20\n",
    "pos = np.zeros((N_trials, 2)) # table of positions\n",
    "pos0 = np.random.normal(size=2) # arbitrary position\n",
    "pos[0] = pos0\n",
    "\n",
    "# loop the random walker\n",
    "for i in range(1, N_trials) :\n",
    "    new_pos = pos[i-1] + jump()\n",
    "    # compute the acceptance rate of the Metropolis-Hasting algorithm\n",
    "    accpt = min(1, weight(new_pos)/weight(pos[i-1]))\n",
    "    if np.random.uniform(0, 1) < accpt :\n",
    "        pos[i] = new_pos\n",
    "    else :\n",
    "        pos[i] = pos[i-1]\n",
    "\n",
    "# calculate the observables\n",
    "dists = np.linalg.norm(pos, axis=1)\n",
    "pos_x = pos[:,0]\n",
    "av_r = np.mean(dists)\n",
    "av_x = np.mean(pos_x)\n",
    "\n",
    "\n",
    "print('Average r :', av_r)\n",
    "print('Average x :', av_x)\n",
    "\n",
    "\n",
    "print('----\\nDone')"
   ]
  },
  {
   "cell_type": "code",
   "execution_count": 4,
   "metadata": {},
   "outputs": [
    {
     "data": {
      "image/png": "[encoded data removed]",
      "text/plain": [
       "<Figure size 720x288 with 2 Axes>"
      ]
     },
     "metadata": {
      "needs_background": "light"
     },
     "output_type": "display_data"
    },
    {
     "name": "stdout",
     "output_type": "stream",
     "text": [
      "----\n",
      "Done\n"
     ]
    }
   ],
   "source": [
    "# question 1\n",
    "\n",
    "# plot the histograms\n",
    "fig = plt.figure(figsize=(10, 4))\n",
    "fig.suptitle('Histogram of the two observables for $N_{\\mathrm{trials}}$ = %d trials'%(N_trials))\n",
    "# histogram for dist\n",
    "ax1 = fig.add_subplot(121)\n",
    "ax1.hist(dists, density=False, bins=100)\n",
    "ax1.set_xlabel('distance $r$ from origin')\n",
    "ax1.set_ylabel('number of occurences')\n",
    "# histogram for pos_x\n",
    "ax2 = fig.add_subplot(122, sharey=ax1)\n",
    "ax2.hist(pos_x, density=False, bins=100)\n",
    "ax2.set_xlabel('horizontal coordinate $x$')\n",
    "#ax2.set_ylabel('number of occurences')\n",
    "plt.show()\n",
    "\n",
    "\n",
    "print('----\\nDone')"
   ]
  },
  {
   "cell_type": "markdown",
   "metadata": {
    "id": "8A0GgoXFhHNo"
   },
   "source": [
    "\n",
    "* **Question 2**: Implement the bunching method on the data of the two observables and show the corresponding plots. Provide an estimate of the correlation time by comparing the naive standard\n",
    "deviation of the data with the standard deviation obtained by the bunching method.\n"
   ]
  },
  {
   "cell_type": "markdown",
   "metadata": {
    "id": "fXt3qbNjhHNo"
   },
   "source": [
    "#### Answer space  (two figures are expected)"
   ]
  },
  {
   "cell_type": "code",
   "execution_count": 5,
   "metadata": {},
   "outputs": [
    {
     "name": "stdout",
     "output_type": "stream",
     "text": [
      "----\n",
      "Done\n"
     ]
    }
   ],
   "source": [
    "# question 2\n",
    "\n",
    "def bunch(observable) :\n",
    "    \"\"\"Operates the bunching process on a 1D time-serie.\n",
    "Returns the list of relative standard deviation fo each level.\"\"\"\n",
    "    # initialisation\n",
    "    n_levels = int(np.log2(np.shape(observable)[0])) # number of levels of bunching\n",
    "    err = np.zeros(n_levels)\n",
    "    for l in range(n_levels) :\n",
    "        err[l] = np.std(observable)/np.sqrt(np.shape(observable)[0])\n",
    "        observable = observable.reshape(-1, 2) # reshapes 'observable' to fit to two columns\n",
    "        observable = np.mean(observable, axis=1) # averages each line, that is [observable[2*i], observable[2*i+1]]\n",
    "    return err\n",
    "\n",
    "# bunching process on the two time-series (r and x)\n",
    "bunch_dist = bunch(dists)\n",
    "bunch_x = bunch(pos_x)\n",
    "\n",
    "\n",
    "print('----\\nDone')"
   ]
  },
  {
   "cell_type": "code",
   "execution_count": 7,
   "metadata": {
    "scrolled": true
   },
   "outputs": [
    {
     "data": {
      "image/png": "[encoded data removed]",
      "text/plain": [
       "<Figure size 720x288 with 2 Axes>"
      ]
     },
     "metadata": {
      "needs_background": "light"
     },
     "output_type": "display_data"
    },
    {
     "name": "stdout",
     "output_type": "stream",
     "text": [
      "----\n",
      "Done\n"
     ]
    }
   ],
   "source": [
    "# question 2\n",
    "\n",
    "# plot the histograms\n",
    "fig = plt.figure(figsize=(10, 4))\n",
    "# histogram for dist\n",
    "ax1 = fig.add_subplot(121)\n",
    "ax1.set_title('Statistical error on $\\\\langle r \\\\rangle$ versus bunching level')\n",
    "ax1.plot([0.00037 for i in range(20)], color='grey', ls='--')\n",
    "ax1.plot(bunch_dist)\n",
    "ax1.set_xlabel('bunching level')\n",
    "ax1.set_ylabel('relative standard deviation $\\\\langle r \\\\rangle$')\n",
    "# histogram for pos_x\n",
    "ax2 = fig.add_subplot(122)\n",
    "ax2.set_title('Statistical error on $\\\\langle x \\\\rangle$ versus bunching level')\n",
    "ax2.plot([0.014 for i in range(20)], color='grey', ls='--')\n",
    "ax2.plot(bunch_x)\n",
    "ax2.set_xlabel('bunching level')\n",
    "ax2.set_ylabel('relative standard deviation on $\\\\langle x \\\\rangle$')\n",
    "plt.show()\n",
    "\n",
    "\n",
    "print('----\\nDone')"
   ]
  },
  {
   "cell_type": "markdown",
   "metadata": {},
   "source": [
    "\n",
    "$$ \\tau_r \\approx 2^5 = 32 $$\n",
    "\n",
    "$$ \\tau_x \\approx 2^8 = 256$$\n",
    "\n",
    "The correlation time is higher for the horizontal coordinate $x$ than for the radius $r$. This is because our potential is shaped like a Mexican hat and the central zone ($x \\approx 0$, $y \\approx 0$) is forbidden (see figure below).\n",
    "\n",
    "&nbsp;\n",
    "<center>\n",
    "<img src=\"./figures/trajectory.png\" width=250/>\n",
    "</center>\n",
    "\n",
    "For the $x$ coordinate to change, the random walker should circle all around the central zone.\n",
    "\n",
    "----------------------------------------------------------------------------------------------"
   ]
  },
  {
   "cell_type": "markdown",
   "metadata": {
    "id": "5HWLqqVChHNq"
   },
   "source": [
    "\n",
    "* **Question 3**: Provide the estimation of both observables with their statistical erorrs:\n"
   ]
  },
  {
   "cell_type": "markdown",
   "metadata": {
    "id": "-moXOTRihHNv"
   },
   "source": [
    "#### Answer space \n",
    "\n",
    "We can estimate the error from the two plots above (first plateau). We retrieve the average value from quesiton 1, with a precision corresponding to that error :\n",
    "\n",
    "$$\\langle r\\rangle = 1,9920 \\pm  0,0004$$ \n",
    "\n",
    "$$ \\langle x\\rangle =  0,018 \\pm 0,014$$\n",
    "\n",
    "----------------------------------------------------------------------------------------------"
   ]
  },
  {
   "cell_type": "markdown",
   "metadata": {
    "id": "hsQnLTfxhHNw"
   },
   "source": [
    "The output of the previous program is a long list of correlated data: $x_0,x_1,\\dots,x_i,\\ldots$ and $r_0,r_1,\\dots,r_i,\\ldots$ \\\\\n",
    "For both observables one can study statistical correlations via the following autocorrelation functions \n",
    "\n",
    "$$C_r(n)= \\langle (r_i-\\langle r\\rangle)(r_{i+n}-\\langle r\\rangle)\\rangle $$\n",
    "\n",
    "$$ C_x(n)= \\langle (x_i-\\langle x\\rangle)(x_{i+n}-\\langle x\\rangle)\\rangle $$\n",
    "\n",
    "Here we consider a single long Markov chain so that both $C_r(n)$ and $C_x(n)$ are independent of $i$, so that the stationary limit is reached.\n",
    "\n",
    "* **Question 4**: Estimate numerically both $C_r(n)$ and $C_x(n)$ for $n=0,1,\\ldots, n_{\\text{range}}$. \\\\\n",
    "In order to observe the decay of the correlations to zero, we need to employ a sufficiently large value for $n_\\text{range}$. If $n_\\text{range}$ is smaller   than the correlation time of the observables, the decay to zero cannot be observed. On the other hand, assigning $n_{\\text{range}}\\approx N_{\\text trials}$ would result in strong fluctuations due to the lack of statistics. Try to find a good value of $n_{\\text{range}}$ for each observable."
   ]
  },
  {
   "cell_type": "markdown",
   "metadata": {
    "id": "bn6xFngKhHOD"
   },
   "source": [
    "#### Answer space\n",
    "A program for the data analysis with two nice linear plots. Correct values of $n_{\\text{range}}$ are expected.\n",
    "\n",
    "----------------------------------------------------------------------------------------------"
   ]
  },
  {
   "cell_type": "code",
   "execution_count": 9,
   "metadata": {},
   "outputs": [
    {
     "name": "stdout",
     "output_type": "stream",
     "text": [
      "----\n",
      "Done\n"
     ]
    }
   ],
   "source": [
    "# question 4\n",
    "\n",
    "# utility function\n",
    "def correlate(Y, taus) :\n",
    "    \"\"\"Calculates the autocovariance of Y for the values of tau specified in 'taus'.\n",
    "Y is a 1D time-serie (ndarray), taus is the list of offsets (ndarray)\"\"\"\n",
    "    T = np.shape(Y)[0]\n",
    "    nbr = np.shape(taus)[0]\n",
    "    corr = np.zeros(nbr)\n",
    "    for i in range(nbr) :\n",
    "        corr[i] = np.correlate(Y[:T-taus[i]], Y[taus[i]:])[0]/(T-taus[i])\n",
    "    m = np.mean(Y)\n",
    "    return  corr-m**2\n",
    "\n",
    "# compute the correlation\n",
    "taus = np.arange(0, 2**9)\n",
    "corr_dist = correlate(dists, taus)\n",
    "corr_x = correlate(pos_x, taus)\n",
    "\n",
    "print('----\\nDone')"
   ]
  },
  {
   "cell_type": "code",
   "execution_count": 10,
   "metadata": {},
   "outputs": [
    {
     "data": {
      "image/png": "[encoded data removed]",
      "text/plain": [
       "<Figure size 720x288 with 2 Axes>"
      ]
     },
     "metadata": {
      "needs_background": "light"
     },
     "output_type": "display_data"
    },
    {
     "name": "stdout",
     "output_type": "stream",
     "text": [
      "----\n",
      "Done\n"
     ]
    }
   ],
   "source": [
    "# question 4\n",
    "\n",
    "# plot the histograms\n",
    "fig = plt.figure(figsize=(10, 4))\n",
    "# histogram for dist\n",
    "ax1 = fig.add_subplot(121)\n",
    "ax1.set_title('Correlation functions for $r$')\n",
    "ax1.plot(taus, corr_dist)\n",
    "ax1.set_xlabel('lag $\\\\tau$')\n",
    "ax1.set_ylabel('distance correlation $\\langle r_{t}r_{t+\\tau} \\\\rangle$')\n",
    "ax1.set_xlim(0, 20)\n",
    "#ax1.set_xscale('log')\n",
    "#ax1.set_yscale('log')\n",
    "# histogram for pos_x\n",
    "ax2 = fig.add_subplot(122)\n",
    "ax2.set_title('Correlation functions for $x$')\n",
    "ax2.plot(taus, corr_x)\n",
    "ax2.set_xlabel('lag $\\\\tau$')\n",
    "ax2.set_ylabel('horizontal coordinate correlation $\\langle x_{t}x_{t+\\tau} \\\\rangle$')\n",
    "ax2.set_xlim(0, 500)\n",
    "#ax2.set_xscale('log')\n",
    "#ax2.set_yscale('log')\n",
    "plt.show()\n",
    "\n",
    "print('----\\nDone')"
   ]
  },
  {
   "cell_type": "markdown",
   "metadata": {},
   "source": [
    "From the figures above, we take $n_{\\text{range}, r} = 20$ and $n_{\\text{range}, x} = 500$"
   ]
  },
  {
   "cell_type": "markdown",
   "metadata": {
    "id": "gu7f2IcChHOD"
   },
   "source": [
    "* **Question 5**: Check numerically if the errors obtained using the following formula \n",
    "\n",
    "$$ \\text{error} = \\sqrt{\\frac{C(0) + 2 \\sum_{n=1}^{n_{\\text{range}}} C(n)}{N_{\\text{trials}}}} $$\n",
    "\n",
    "are consistent with the results obtained using the bunching method"
   ]
  },
  {
   "cell_type": "markdown",
   "metadata": {
    "id": "J5kFc94mhHOE"
   },
   "source": [
    "#### Answer space "
   ]
  },
  {
   "cell_type": "code",
   "execution_count": 12,
   "metadata": {},
   "outputs": [
    {
     "name": "stdout",
     "output_type": "stream",
     "text": [
      "Error in r : 0.0003855603821970413\n",
      "Error in x : 0.007938531803115541\n"
     ]
    }
   ],
   "source": [
    "# error in r\n",
    "n_range = 400\n",
    "err_r = np.sqrt((corr_dist[0] + 2*np.sum(corr_dist[1:n_range]))/2**20)\n",
    "\n",
    "# error in x\n",
    "n_range = 20\n",
    "err_x = np.sqrt((corr_x[0] + 2*np.sum(corr_x[1:n_range]))/2**20)\n",
    "\n",
    "print('Error in r :', err_r)\n",
    "print('Error in x :', err_x)"
   ]
  },
  {
   "cell_type": "markdown",
   "metadata": {},
   "source": [
    "$$ \\langle r\\rangle = 1,9920 \\pm 0,0004 $$\n",
    "\n",
    "$$\\langle x\\rangle = 0,018 \\pm 0,008 $$\n",
    "\n",
    "This result is consistent with the error found with the bunching method.\n",
    "\n",
    "--------------------------------"
   ]
  },
  {
   "cell_type": "markdown",
   "metadata": {
    "id": "Nu9atNJIhHOF"
   },
   "source": [
    "## <center>Part II:  Markov chain and Google's PageRank </center>"
   ]
  },
  {
   "cell_type": "markdown",
   "metadata": {
    "id": "U9LFX8OFhHOG"
   },
   "source": [
    "### **References**\n",
    "\n",
    "* <a href=\"http://infolab.stanford.edu/~backrub/google.html\">The original PageRank paper by Google’s founders Sergey Brin and Lawrence Page</a>\n",
    "* A useful lecture is the <a href=\"http://infolab.stanford.edu/~ullman/mmds/ch5.pdf\">Chap. 5 of Mining of Massive Datasets by J. Leskovec, A. Rajaraman, J. Ullman</a>\n",
    "\n",
    "In the first lecture, we introduced the MCMC (Markov Chain Monte Carlo) and its most famous representative : the Metropolis algorithm. We also discussed the properties of the transition (or Markov) matrix and the convergence of the MCMC. Here we will see a second and very important application of the transition matrix: the PageRank.\n",
    "\n",
    "### **History**\n",
    "\n",
    "The World Wide Web was born in the nineties and grew up very fast. There were 623 web sites in 1993, more than one million in 1997, and today we can count more than a billion of web sites. How do you find your desired web page in such a jungle?\n",
    "\n",
    "At the end of the nineties the most popular search engines, like AltaVista or Yahoo!, were focused on the relevance of some keywords: a short list of results was obtained by estimating the number of occurrence and the location (title, abstract, main text...) of the keywords in the document. Unfortunately spam sites were able to find their way to get in that list by repeating many keywords. In 1997, the top search results of the keyword 'Titanic' contained a small fraction of sites dedicated to the actual sad story of the British passenger liner or the movie with Leo Di Caprio and Kate Winslet.\n",
    "\n",
    "To fight against spam, two students of Standford, Brin and Page, proposed as a solution to this problem PageRank, an algorithm that establishes the importance of a web site using transition matrix theory. Thanks to this idea, Brin and Page founded in 1998 a new company: Google.\n",
    "\n",
    "### **The Idea**\n",
    "\n",
    "The World Wide Web has the topological structure of an oriented graph: a site can link to (and be linked by) other sites. \n",
    "\n",
    "In their original paper Brin and Page imagine a Random Surfer that at each time-step moves from a visited page to a new one by selecting at random one of the possible links. The PageRank of the WWW is given by the occupation probabilities of the sites in the stationary state.\n",
    "\n",
    "### **The PageRank algorithm**\n",
    "\n",
    "Consider a site $a$ that links to list of sites, that we call neighbor$[a]=[a_1,a_2,\\ldots]$. For an oriented graph the fact that $a_1$ is in the list of neighbor$[a]$ does not imply that  $a$ is in the list of neighbor$[a_1]$. We define \n",
    "* the **out-degree**, $K_a^{\\text{out}}$, the number of outgoing links from $a$:\n",
    "$$ K_a^{\\text{out}} = \\text{len}(\\text{neighbor}[a])$$\n",
    "* the **in-degree**  , $K_a^{\\text{in}}$, the number of links that points the site $a$.\n",
    "\n",
    "\n",
    "The Markov matrix $T$ for a random  surfer is such that the matrix  element\n",
    "$T_{ba}$, corresponding to the move from $a\\to b$, is:\n",
    "$$ T_{ba} =\n",
    "\\begin{cases}\n",
    "1/K_a^{\\text{out}} &\\text{if} \\;  b \\in \\text{neighbor}[a] \\\\\n",
    "\\\\\n",
    "0  & \\text{otherwise}\n",
    "\\end{cases}\n",
    "$$\n",
    "We first define the PageRank of the graph as the stationary state, $\\pi = T \\pi$. In particular the PageRank (namely the score) associated to a site $a$ is\n",
    "$\\text{PR}(a)= \\pi_a$.   Starting from the general global balance equation\n",
    "$$  \\sum_{b\\ne a} \\pi_a p_{a \\to b} = \\sum_{b\\ne a} \\pi_b p_{b \\to a} =  \\sum_{b} \\pi_a T_{ba} = \\sum_{b} \\pi_b T_{ab}$$\n",
    "You can show the validity of the PageRank equation written by Page and Brin\n",
    "$$ \\text{PR}(a) = \\sum_{a \\in \\text{neighbor}[b]} \\frac{\\text{PR}(b)}{K_b^{\\text{out}}} $$"
   ]
  },
  {
   "cell_type": "markdown",
   "metadata": {
    "id": "Fc97Yxo7hHOI"
   },
   "source": [
    "### The 3x3 pebble game with PageRank\n",
    "\n",
    "To provide a concrete example consider again the traditional $3\\times 3$ pebble game but implement the PageRank algorithm instead of the Metropolis algorithm.\n",
    "\n",
    "**Question 6**\n",
    "* Find the stationary state of this specific Markov chain. Are the position still evenly sampled?\n",
    "* By studying the spectrum of the Markov matrix, determine the properties of the Markov chain (periodic or aperiodic, reducible or irreducible).\n",
    "\n",
    "**Code remainder** \\\\\n",
    "We recall that in Python/Numpy it is possible to create a matrix easily. Say that we have a Markov chain with two states, $a$ and $b$, with the following transition probabilities:\n",
    "$$p_{a \\to a} = 0.3 \\quad p_{a \\to b} = 0.7$$\n",
    "$$p_{b \\to a} = 0.5 \\quad p_{a \\to b} = 0.5$$\n",
    "The transition matrix $P$ will be constructed as follows:\n",
    "\n",
    "```\n",
    "P = np.array([[0.3, 0.5],[0.7, 0.5]])\n",
    "```\n",
    "\n",
    "Numpy (accessed through np.) constructs explicity matrices by passing a list of the rows. Of course this can help when the matrix is not too big, otherwise different methods must be adopted. If one wants to pass the columns can use the transpose operation .T (notice it at the end of np.array(...))\n",
    "\n",
    "```\n",
    "P = np.array([[0.3, 0.7],[0.5, 0.5]]).T\n",
    "```"
   ]
  },
  {
   "cell_type": "markdown",
   "metadata": {
    "id": "was-gsJLyKqe"
   },
   "source": [
    "**Answer space**\n",
    "\n",
    "Note :\n",
    "> We will consider that two cells of the 3x3 pebble game are connected (IN and OUT) **if they share an edge** :\n",
    "> \n",
    "> &nbsp;\n",
    "> <center>\n",
    "> <img src=\"./figures/cells.png\" width=150 height=150 />\n",
    "> </center>\n",
    "> \n",
    "> Here, cell 0 is linked to cell 1 and cell 3 only.\n"
   ]
  },
  {
   "cell_type": "code",
   "execution_count": 3,
   "metadata": {},
   "outputs": [],
   "source": [
    "# question 6\n",
    "\n",
    "# utilities\n",
    "def ngb_list_to_network(ngb_list, offset=0) :\n",
    "    dim = len(ngb_list)\n",
    "    network = np.zeros((dim, dim))\n",
    "    for a in range(offset, dim + offset) :\n",
    "        for b in ngb_list[a] :\n",
    "            network[b-offset, a-offset] = 1\n",
    "    return(network)\n",
    "\n",
    "# input : the list of neighbors\n",
    "neighbor_list = {0 : [1, 3],\n",
    "                 1 : [0, 2, 4],\n",
    "                 2 : [1, 5],\n",
    "                 3 : [0, 4, 6],\n",
    "                 4 : [1, 3, 5, 7],\n",
    "                 5 : [2, 4, 8],\n",
    "                 6 : [3, 7],\n",
    "                 7 : [4, 6, 8],\n",
    "                 8 : [5, 7]}\n",
    "\n",
    "# building the network corresponding to the neighbor list\n",
    "network = ngb_list_to_network(neighbor_list)"
   ]
  },
  {
   "cell_type": "code",
   "execution_count": 4,
   "metadata": {},
   "outputs": [
    {
     "name": "stdout",
     "output_type": "stream",
     "text": [
      "The PageRank for the 3x3 pebble game is :\n",
      " [0.06926326 0.14610511 0.06926326 0.14610511 0.13852652 0.14610511\n",
      " 0.06926326 0.14610511 0.06926326]\n",
      "\n",
      "This is not far from the exact value :\n",
      " [0.08333333 0.125      0.08333333 0.125      0.16666667 0.125\n",
      " 0.08333333 0.125      0.08333333]\n"
     ]
    }
   ],
   "source": [
    "# question 6\n",
    "\n",
    "def do_page_rank(n, network, state, tax=False) :\n",
    "    \"\"\"Computes the PageRank over the square array 'network'\"\"\"\n",
    "    d = 0.85\n",
    "    length = np.shape(state)[0]\n",
    "    for i in range(n) :\n",
    "        state = np.dot(network, state)    # multiplication\n",
    "        if tax :\n",
    "            state = d*state/np.sum(state) + (1-d)/length\n",
    "        else :\n",
    "            state = state/np.sum(state)   # renormalization without loss\n",
    "    return state\n",
    "\n",
    "# computing the PageRank\n",
    "start = np.random.random(size=9)\n",
    "page_rank = do_page_rank(2000, network, start)\n",
    "\n",
    "# comments\n",
    "mat0 = np.array([1/12, 1/8, 1/12, 1/8, 1/6, 1/8, 1/12, 1/8, 1/12])\n",
    "print('The PageRank for the 3x3 pebble game is :\\n', page_rank)\n",
    "print('\\nThis is not far from the exact value :\\n', mat0)"
   ]
  },
  {
   "cell_type": "markdown",
   "metadata": {},
   "source": [
    "The stationary state for PageRank is no longer evenly sampled and is :\n",
    "\n",
    "$$ \\pi(0)=1/12, \\:\\pi(1)=1/8, \\:\\pi(2)=1/12, \\:\\pi(3)=1/8, \\:\\pi(4)=1/6, \\:\\pi(5)=1/8, \\:\\pi(6)=1/12, \\:\\pi(7)=1/8, \\:\\pi(8)=1/12$$\n",
    "\n",
    "Details :\n",
    "> The global balance condition given by :\n",
    "> $$ \\text{PR}(a) = \\sum_{a \\in \\text{neighbor}[b]} \\frac{\\text{PR}(b)}{K_b^{\\text{out}}} $$\n",
    "> is a 9x9 linear system.\n",
    "> Since the system is symetric, we can argue that the cells on the corners will be of same PageRank (left), as for the cells on the sides (center) and on the center (right)$ :\n",
    "> \n",
    "> &nbsp;\n",
    "> <center>\n",
    "> <img src=\"./figures/all.png\" width=600/>\n",
    "> </center>\n",
    ">  \n",
    "> This reduce the 3x3 system and gives :\n",
    "$$ \\pi(0)=1/12, \\:\\pi(1)=1/8, \\:\\pi(2)=1/12, \\:\\pi(3)=1/8, \\:\\pi(4)=1/6, \\:\\pi(5)=1/8, \\:\\pi(6)=1/12, \\:\\pi(7)=1/8, \\:\\pi(8)=1/12$$\n",
    "\n"
   ]
  },
  {
   "cell_type": "code",
   "execution_count": 5,
   "metadata": {},
   "outputs": [
    {
     "name": "stdout",
     "output_type": "stream",
     "text": [
      "Eigenvalues are :\n",
      " [ 1.00000000e+00+0.00000000e+00j -1.00000000e+00+0.00000000e+00j\n",
      " -5.77350269e-01+0.00000000e+00j -5.77350269e-01+0.00000000e+00j\n",
      "  5.77350269e-01+0.00000000e+00j  5.77350269e-01+0.00000000e+00j\n",
      "  0.00000000e+00+5.44551778e-17j  0.00000000e+00-5.44551778e-17j\n",
      "  5.22389405e-33+0.00000000e+00j]\n",
      "\n",
      "The eigenvector for eigenvalue 1.0 (stationary state) is :\n",
      " [0.08333333-0.j 0.125     -0.j 0.08333333-0.j 0.125     -0.j\n",
      " 0.16666667-0.j 0.125     -0.j 0.08333333-0.j 0.125     -0.j\n",
      " 0.08333333-0.j]\n",
      "\n",
      "The eigenvector for eigenvalue -1.0 is :\n",
      " [-0.24253563+0.j  0.36380344+0.j -0.24253563+0.j  0.36380344+0.j\n",
      " -0.48507125+0.j  0.36380344+0.j -0.24253563+0.j  0.36380344+0.j\n",
      " -0.24253563+0.j]\n"
     ]
    }
   ],
   "source": [
    "# question 6\n",
    "\n",
    "# spectral analysis\n",
    "normalized_net = np.multiply(network, 1/np.sum(network, axis=0))\n",
    "eigenvals, eigenvects = np.linalg.eig(normalized_net)\n",
    "\n",
    "# comments\n",
    "print('Eigenvalues are :\\n', eigenvals)\n",
    "print('\\nThe eigenvector for eigenvalue 1.0 (stationary state) is :\\n', eigenvects[:,0]/np.sum(eigenvects[:,0]))\n",
    "print('\\nThe eigenvector for eigenvalue -1.0 is :\\n', eigenvects[:,1])"
   ]
  },
  {
   "cell_type": "code",
   "execution_count": 6,
   "metadata": {},
   "outputs": [
    {
     "name": "stdout",
     "output_type": "stream",
     "text": [
      "Final state for an even number of loop :\n",
      " [0.16666667 0.         0.16666667 0.         0.33333333 0.\n",
      " 0.16666667 0.         0.16666667]\n",
      "\n",
      "Final state for an odd number of loop :\n",
      " [0.   0.25 0.   0.25 0.   0.25 0.   0.25 0.  ]\n",
      "----\n",
      "Done\n"
     ]
    }
   ],
   "source": [
    "# question 6\n",
    "\n",
    "# building periodic state\n",
    "start = np.array([1.0, 0.0, 1.0, 0.0, 1.0, 0.0, 1.0, 0, 1.0]) # only even cells\n",
    "page_rank_even = do_page_rank(1000, network, start)\n",
    "page_rank_odd = do_page_rank(1001, network, start)\n",
    "\n",
    "# comments\n",
    "print('Final state for an even number of loop :\\n', page_rank_even)\n",
    "print('\\nFinal state for an odd number of loop :\\n', page_rank_odd)\n",
    "\n",
    "print('----\\nDone')"
   ]
  },
  {
   "cell_type": "markdown",
   "metadata": {},
   "source": [
    "The PageRank version of the $3\\times 3$ describes a **bipartite** network. The matrix is also irreducible (single component).\n",
    "\n",
    "Details :\n",
    "> Even cells (cells n°0, 2, 4, 6 and 8) are only connected to odd cells (cells n°1, 3, 5 and 7) and vice-versa. The states :\n",
    "> $$\\small \\text{The states} \\qquad \\left[\\begin{array}\n",
    "> 0,17 \\\\ 0,00 \\\\ 0,17 \\\\ 0,00 \\\\ 0,33 \\\\ 0,00 \\\\ 0,17 \\\\ 0,00 \\\\ 0,17\n",
    "\\end{array}\\right] \\qquad \\text{and} \\qquad \\left[\\begin{array}\n",
    "> 0,00 \\\\ 0,25 \\\\ 0,00 \\\\ 0,25 \\\\ 0,00 \\\\ 0,25 \\\\ 0,00 \\\\ 0,25 \\\\ 0,00\n",
    "\\end{array}\\right] \\qquad \\text{form a cycle of period 2}$$\n",
    "\n",
    "--------------------------------------------"
   ]
  },
  {
   "cell_type": "markdown",
   "metadata": {
    "id": "XjMDz7ewhHOM"
   },
   "source": [
    "### Dead Ends and Spider Traps\n",
    "\n",
    "The PageRank described above works if the Markov matrix is irreducible, \n",
    "but several snares are hidden in the WWW: the Surfer can find a **dead end**, \n",
    "    namely a web page that does not contain links, or, even worst, can jump \n",
    "    in a **spider trap**, e.g. a set of nodes with no dead ends but no links with the outside world. \n",
    "\n",
    "The strategy to deal with them is called taxation. It relies on a damping parameter $d$ that we take in the interval $[0,1]$ (here take $d=0.85$) The novel dynamics can be written as\n",
    "$$ \\vec{\\pi}(t+1) = d\\, T\\vec{\\pi}(t) + \\frac{1−d}{n}\\vec{J}\\quad \\text{ where }\\vec{J} = \\begin{pmatrix} 1\\\\ \\vdots \\\\1\\end{pmatrix} $$\n",
    "here $n$ is the total number of web pages (the total number of nodes).\n",
    "One can show that in presence of taxation the PageRank formula writes\n",
    "$$ \\text{PR}(a) = d\\sum_{b \\text{ connected to } a} \\frac{\\text{PR}(b)}{K_b^{\\text{out}}} + \\frac{1−d}{n}  $$\n",
    "Taxation modifies the dynamics of Random Surfers and solves the problem of both spider traps and dead ends (to ensure probability conservation, in the case of a dead end, the Markov Matrix $T$ has a $1$ on the diagonal for the corresponding node).\n",
    "\n",
    "**Question 7:** Provide the PageRank with this prescription and 𝑑=0.85 for the neighbour below.  Identify the dead end or the spider trap.\n",
    "\n",
    "\n"
   ]
  },
  {
   "cell_type": "markdown",
   "metadata": {
    "id": "f8krG6Z1hHOa"
   },
   "source": [
    "**Answer space**\n",
    "\n",
    "A program is expected to answer this question. \n"
   ]
  },
  {
   "cell_type": "code",
   "execution_count": 7,
   "metadata": {
    "id": "cQwr-2_io4jM"
   },
   "outputs": [],
   "source": [
    "neighbor_list = {1 : [2, 3], 2 : [1, 4], 3 : [1, 4], 4 : [2, 3, 5], 5 : [6], 6 : [5]}"
   ]
  },
  {
   "cell_type": "markdown",
   "metadata": {},
   "source": [
    "The neighbor_list contains a spider trap in the sites n°5 and n°6 (see network matrix below).\n",
    "\n",
    "<center>\n",
    "<img src=\"./figures/network_trap.png\" width=250/>\n",
    "</center>"
   ]
  },
  {
   "cell_type": "code",
   "execution_count": 10,
   "metadata": {
    "scrolled": true
   },
   "outputs": [
    {
     "name": "stdout",
     "output_type": "stream",
     "text": [
      "The PageRank is :\n",
      " [0.19115657 0.19115657 0.19115657 0.19115657 0.1466419  0.08873183]\n",
      "----\n",
      "Done\n"
     ]
    }
   ],
   "source": [
    "# question 7\n",
    "\n",
    "# building the Markov matrix\n",
    "network = ngb_list_to_network(neighbor_list, offset=1)\n",
    "\n",
    "# computing the PageRank\n",
    "start = np.random.random(size=6)\n",
    "page_rank = do_page_rank(1000, network, start, tax=True)\n",
    "\n",
    "# comments\n",
    "print('The PageRank is :\\n', page_rank)\n",
    "\n",
    "print('----\\nDone')"
   ]
  },
  {
   "cell_type": "markdown",
   "metadata": {},
   "source": [
    "The final PageRank for the $6$ web pages is :\n",
    "\n",
    "$$ \\pi(1)=0,19, \\quad  \\pi(2)=0,19, \\quad \\pi(3)=0,19$$\n",
    "$$ \\pi(4)=0,19, \\quad  \\pi(5)=0,14, \\quad \\pi(6)=0,089$$\n",
    "\n",
    "--------------------------"
   ]
  },
  {
   "cell_type": "markdown",
   "metadata": {
    "id": "DJXllSiMhHOf"
   },
   "source": [
    "### PageRank performace:\n",
    "\n",
    "The PageRank algorithm is a time-consuming process to provide a score for each site in the networks. A much simpler and intuitive measure is given by the **in-degree**  , $K_a^{\\text{in}}$. In this case, sites with high in-degree are more important. One might think that two measures are equivalent, but this is not the case, especially for complex graphs. To illustrate the difference let's study the citation network **of the first 49 volumes of Physical Review Letters.**\n",
    "\n",
    " \\\\\n",
    "The dataset you find here lets you reconstruct the adjacency matrix  of the citation network:\n",
    "$$A_{ij} = \n",
    "\\begin{cases}\n",
    "1 & \\text{if the paper} \\; j \\; \\text{cites the paper} \\; i \\\\\n",
    "0 & \\text{otherwise}\n",
    "\\end{cases}\n",
    "$$\n",
    "\n",
    "Please follow the instruction below to download the dataset."
   ]
  },
  {
   "cell_type": "code",
   "execution_count": 19,
   "metadata": {
    "colab": {
     "base_uri": "https://localhost:8080/"
    },
    "id": "Up1KL9lUm2uT",
    "outputId": "5a7f509c-2354-424f-d5ce-71306ac39089"
   },
   "outputs": [
    {
     "name": "stdout",
     "output_type": "stream",
     "text": [
      "/bin/bash: wget: command not found\r\n"
     ]
    }
   ],
   "source": [
    "#HOW TO DOWNLOAD THE DATASET:\n",
    "#If you are on Google Colab, by running this code box the dataset will be saved in a temporary folder online\n",
    "! wget https://raw.githubusercontent.com/Schimmenti/NumPhysENS/master/adj_list.txt\n",
    "#If you are using your own jupyter notebook please download manually the file\n",
    "#from the link https://raw.githubusercontent.com/Schimmenti/NumPhysENS/master/adj_list.txt\n",
    "#and put it in the same folder of the notebook"
   ]
  },
  {
   "cell_type": "markdown",
   "metadata": {
    "id": "xJ-NydvMpIh9"
   },
   "source": [
    "We don't leave the creation of the adjacency matrix and the transition matrix to you. Just execute the code box below and the adjacency matrix will be saved in a variable named $A$"
   ]
  },
  {
   "cell_type": "code",
   "execution_count": 20,
   "metadata": {
    "id": "uRzwk8tFm-ob"
   },
   "outputs": [
    {
     "name": "stderr",
     "output_type": "stream",
     "text": [
      "/var/folders/8g/198g41q55j5gmhlk1zp_g5hw0000gn/T/ipykernel_3407/1612661820.py:12: FutureWarning: adjacency_matrix will return a scipy.sparse array instead of a matrix in Networkx 3.0.\n",
      "  A = nx.linalg.graphmatrix.adjacency_matrix(g, dtype=int).toarray().T\n"
     ]
    },
    {
     "name": "stdout",
     "output_type": "stream",
     "text": [
      "----\n",
      "Done\n"
     ]
    }
   ],
   "source": [
    "#don't change this code, it is necessary for the creation of the adjacency matrix\n",
    "import pandas as pd\n",
    "import networkx as nx\n",
    "import numpy as np\n",
    "import warnings\n",
    "import scipy as sp\n",
    "import scipy.sparse as sparse\n",
    "import matplotlib.pyplot as plt\n",
    "adj_list = pd.read_csv('adj_list.txt', sep=' ', header=None)\n",
    "adj_list.columns = ['from','to']\n",
    "g = nx.from_pandas_edgelist(adj_list, source='from', target='to', create_using=nx.DiGraph())\n",
    "A = nx.linalg.graphmatrix.adjacency_matrix(g, dtype=int).toarray().T\n",
    "dead_ends = np.where(A.sum(axis=0))[0] # changer ?\n",
    "A[(dead_ends, dead_ends)] = 1\n",
    "#A_sparse = sp.sparse.csr_matrix(A, dtype=float)\n",
    "n_nodes = A.shape[0]\n",
    "with warnings.catch_warnings():\n",
    "    warnings.simplefilter(\"ignore\")\n",
    "    temp = np.sum(A, axis=0)\n",
    "    T = A/temp\n",
    "    T[~np.isfinite(T)] = 0\n",
    "#T_sparse = sp.sparse.csr_matrix(T, dtype=float)\n",
    "# the variable A contains the adjacency matrix of the network\n",
    "# the variable n_nodes contains the number of nodes of the network\n",
    "\n",
    "print('----\\nDone')"
   ]
  },
  {
   "cell_type": "markdown",
   "metadata": {
    "id": "H1I-UWBGm2Lu"
   },
   "source": [
    "**Question 8**\n",
    "* Compute the in-degree of each paper, namely the number of citations of each paper (a program is expected).\n",
    "\n",
    "* Using the in-degree as a measure, rank the first 10 papers of the network: the first paper in the ranking is the one with the highest in-degree, the second the one with the second highest in-degree...\n",
    "\n",
    "\n",
    "<!-- N.B.: since in the network some dead-ends are present, $T$ is not a proper Markov Matrix: some $j^*$ exists such that $\\sum_i T_{ij^*}=0$. The fact that we are using $d \\neq 1$ ensures that the PageRank exists however it is not anymore a probability i.e. $\\sum_a \\pi_a$ will be different from $1$. -->"
   ]
  },
  {
   "cell_type": "markdown",
   "metadata": {
    "id": "-NdUQbYfTke2"
   },
   "source": [
    "**Answer Space**\n",
    "\n",
    "\n",
    "--------------------------"
   ]
  },
  {
   "cell_type": "code",
   "execution_count": 27,
   "metadata": {
    "scrolled": true
   },
   "outputs": [
    {
     "name": "stdout",
     "output_type": "stream",
     "text": [
      "Top-ten degrees : [124, 105, 96, 92, 71, 65, 64, 64, 58, 57]\n",
      "Position of these nodes : [1367, 3900, 3903, 375, 2079, 1031, 1533, 3902, 4955, 1063]\n",
      "----\n",
      "Done\n"
     ]
    }
   ],
   "source": [
    "# question 8\n",
    "\n",
    "# 8.1\n",
    "in_degrees = np.sum(A, axis=1)\n",
    "\n",
    "\n",
    "# 8.2\n",
    "topten_deg = []\n",
    "pos_deg = []\n",
    "for i in range(10) :\n",
    "    ind = np.argmax(in_degrees)\n",
    "    pos_deg.append(ind)\n",
    "    val = in_degrees[ind] # get the value of the degree (and not the pointer)\n",
    "    topten_deg.append(val)\n",
    "    in_degrees[ind] = 0 # zero is the minimum degree and cannot be the max. anymore\n",
    "print('Top-ten degrees :', topten_deg)\n",
    "print('Position of these nodes :', pos_deg)\n",
    "\n",
    "print('----\\nDone')"
   ]
  },
  {
   "cell_type": "markdown",
   "metadata": {},
   "source": [
    "**Question 9**\n",
    "* Compute the PageRank $PR(a)$ associated to each paper (a program is expected; use $d=0.85$).\n",
    "* Using the $PR(a)$ as a measure, rank the first 10 papers of the network: the first paper in the ranking is the one with the highest PageRank, the second the one with the second highest PageRank...\n",
    "* Compare the two rankings and see if there are differences."
   ]
  },
  {
   "cell_type": "code",
   "execution_count": 32,
   "metadata": {
    "scrolled": true
   },
   "outputs": [
    {
     "name": "stdout",
     "output_type": "stream",
     "text": [
      "Top-ten degrees : [0.07384474198722293, 0.059217670092586966, 0.05498740881299317, 0.05246277788937844, 0.04135513962496399, 0.04005914906495315, 0.03130012972731222, 0.030974763795542336, 0.030959723824982084, 0.03005797357702528]\n",
      "Position of these nodes : [466, 464, 62, 269, 467, 470, 271, 465, 473, 560]\n"
     ]
    }
   ],
   "source": [
    "# question 9\n",
    "# this cell takes a lot of time to compute\n",
    "\n",
    "# 9.1 compute page rank for A\n",
    "n_loop = 200\n",
    "start = np.ones(np.shape(A)[0])\n",
    "page_rank = do_page_rank(n_loop, A, start)\n",
    "\n",
    "# 9.2\n",
    "topten_PR = []\n",
    "pos_PR = []\n",
    "for i in range(10) :\n",
    "    ind = np.argmax(page_rank)\n",
    "    pos_PR.append(ind)\n",
    "    val = page_rank[ind] # get the value of the degree (and not the pointer)\n",
    "    topten_PR.append(val)\n",
    "    page_rank[ind] = 0 # zero is the minimum degree and cannot be the max. anymore\n",
    "print('Top-ten degrees :', topten_PR)\n",
    "print('Position of these nodes :', pos_PR)"
   ]
  },
  {
   "cell_type": "markdown",
   "metadata": {},
   "source": [
    "Note : the PageRank algorithm give the same ranking for `n_loop = 100`. Hre we computed for `n_loop = 100`. We reached stationary state."
   ]
  },
  {
   "cell_type": "code",
   "execution_count": 36,
   "metadata": {},
   "outputs": [
    {
     "name": "stdout",
     "output_type": "stream",
     "text": [
      "In-degree of top-ten PageRanks : [28, 8, 7, 9, 5, 15, 12, 9, 9, 9]\n",
      "\n",
      "PageRank of bests in-degree nodes : [1.110823867615194e-07, 1.0972276043108568e-07, 5.674083801647732e-08, 7.71876872098838e-09, 3.885388209245331e-05, 0.00039391587014602386, 0.00013106168958892058, 2.989917085044792e-08, 4.5670430210689686e-45, 5.119418407906014e-07]\n"
     ]
    }
   ],
   "source": [
    "# 9.3 compare two rankings (in-degree & pagerank)\n",
    "\n",
    "# print 'in-degrees' of best pageranks\n",
    "deg_of_top_PR = []\n",
    "for ind in pos_PR :\n",
    "    deg_of_top_PR.append(in_degrees[ind])\n",
    "\n",
    "\n",
    "# print 'pagerank' of best in-degrees\n",
    "PR_of_top_deg = []\n",
    "for ind in pos_deg :\n",
    "    PR_of_top_deg.append(page_rank[ind]) # better understood multiplied by dim\n",
    "\n",
    "\n",
    "# print nodes that are in both\n",
    "intersect = []\n",
    "for ind in pos_PR :\n",
    "    if ind in pos_deg :\n",
    "        intersect.append(ind)\n",
    "    else :\n",
    "        pass\n",
    "    \n",
    "print('In-degree of top-ten PageRanks :', deg_of_top_PR)\n",
    "print('\\nPageRank of bests in-degree nodes :', PR_of_top_deg)\n",
    "print('\\nIntersection of two top-tens', intersect)"
   ]
  },
  {
   "cell_type": "markdown",
   "metadata": {},
   "source": [
    "The two rankings are not magching at all :\n",
    "- the articles with the best PageRank have an average in-degree,\n",
    "- the articles with the highest in-degree have a low PageRank."
   ]
  },
  {
   "cell_type": "markdown",
   "metadata": {},
   "source": [
    "**Question 10** \\\\\n",
    "* Compute the in-degree and the out-degree of the network and make an histogram for each.\n",
    "* Compute the in-degree for the highest ranked nodes according to both the in-degree and the PageRank rankings. Do you notice any difference?"
   ]
  },
  {
   "cell_type": "code",
   "execution_count": 44,
   "metadata": {},
   "outputs": [
    {
     "data": {
      "image/png": "[encoded data removed]",
      "text/plain": [
       "<Figure size 720x288 with 2 Axes>"
      ]
     },
     "metadata": {
      "needs_background": "light"
     },
     "output_type": "display_data"
    },
    {
     "name": "stdout",
     "output_type": "stream",
     "text": [
      "----\n",
      "Done\n"
     ]
    }
   ],
   "source": [
    "# question 10\n",
    "\n",
    "# 9.1 in-degree and out-degree\n",
    "in_degrees = np.sum(A, axis=1)\n",
    "out_degrees = np.sum(A, axis=0)\n",
    "\n",
    "\n",
    "# plot the histograms\n",
    "fig = plt.figure(figsize=(10, 4))\n",
    "# histogram for dist\n",
    "ax1 = fig.add_subplot(121)\n",
    "ax1.set_title('Histogram for in-degree')\n",
    "ax1.hist(in_degrees, bins=100)\n",
    "ax1.set_xlabel('degree')\n",
    "ax1.set_ylabel('number of occurence')\n",
    "ax1.set_xscale('log')\n",
    "ax1.set_yscale('log')\n",
    "# histogram for pos_x\n",
    "ax2 = fig.add_subplot(122)\n",
    "ax2.set_title('Histogram for out-degree')\n",
    "ax2.hist(out_degrees, bins=100)\n",
    "ax2.set_xlabel('degree')\n",
    "ax2.set_ylabel('number of occurence')\n",
    "#ax2.set_xscale('log')\n",
    "ax2.set_yscale('log')\n",
    "plt.show()\n",
    "\n",
    "print('----\\nDone')"
   ]
  },
  {
   "cell_type": "markdown",
   "metadata": {},
   "source": [
    "Highest in-degree : 124\n",
    "\n",
    "In-degree of highest PageRank : 28\n",
    "\n",
    "We note that the most \"central\" node (according to the PageRank) does not really have a high in-degree. Indeed, the centrality measure is a much more complex measure than just the degree, and accounts for finer topological structures."
   ]
  },
  {
   "cell_type": "markdown",
   "metadata": {
    "id": "Cz21Hez0x-6V"
   },
   "source": [
    "### **Quick Python\\Numpy Guide (useful for this HW)**\n",
    "\n",
    "* An element of a vector is accessed as v[0], v[1] ...\n",
    "* An element of a matrix is accessed as A[0,0], A[0,1] ...\n",
    "* The i-th row of a matrix as A[i,:] (returns a 1-dim array)\n",
    "* The j-th column of a matrix as A[:,j] (returns a 1-dim array)\n",
    "\n",
    "* For summing a numpy array/matrix like $A$ one can use the method np.sum():\n",
    "it accepts as a first argument the ***array*** you want the sum of, and\n",
    "as a second (optional) argument called ***axis*** it accepts the\n",
    "direction (in a matrix for example) along which the sum is to be performed.\n",
    "1. np.sum(A) sums all the element in the matrix 'A' i.e. $\\sum_{ij} A_{ij}$\n",
    "2. np.sum(A, axis=0) sums the rows hence returns a 1-dim array i.e. $\\sum_i A_{ij}$\n",
    "3. np.sum(A, axis=1) sums the columns hence returns a 1-dim array i.e. $\\sum_j A_{ij}$\n",
    "\n",
    "* When you multply numpy arrays together few typical scenarios can occur:\n",
    "1. Vector-vector element-wise multiplication: we have two 1-dim vectors $a$ and $b$. By doing $a*b$ we get another vector $c$ such that $c_i = a_i b_i$\n",
    "2. Same results when $a$ and $b$ are two same-size matrices.\n",
    "3. When we multiply a matrix $X$ by a vector $a$ i.e. $X*a$ if the length of the vector has the same length of the matrix column we obtai $Y_{ij} = X_{ij} a_i$\n",
    "4. The linear matrix-vector multiplication is obtained by using a function np.matmul() where the first argument is a matrix and the second is a vector i.e. np.matmul(X,a)\n",
    "\n",
    "* Numpy provides efficient indexing of arrays using boolean masks. What is a boolean mask? Let's understand it with an example. Imagine we have an array $x$:\n",
    "```\n",
    "x = np.array([0.5, 2, 2, -1, 10, -3.8, 6, -0.3])\n",
    "```\n",
    "We want to find all the elements of $x$ that are positive. How do we do that? We construct a boolean mask!\n",
    "```\n",
    "boolean_mask = x > 0\n",
    "```\n",
    "By applying the $>$ operator to $x$ we go through the array $x$ and check whether an element is bigger than zero: the resulting array *boolean_mask* is an array of *True* and *False* depending on each value of $x$. Now if we do:\n",
    "```\n",
    "x[boolean_mask]\n",
    "```\n",
    "we obtain a sub-array of only positive values. In other words by using a boolean array (T/F) of the same length as $x$ we select only the elements of $x$ corresponding to a positive value of the mask.\n",
    "\n",
    "* Numpy let's you order easily an array:\n",
    "```\n",
    "np.sort(x)\n",
    "```\n",
    "that results in:\n",
    "```\n",
    "[-3.8, -1, -0.3, 0.5, 2, 2, 6, 10]\n",
    "```\n",
    "If one is interested in knowing the indices of the sorted array with respect to the unsorted one, one can use:\n",
    "```\n",
    "np.argsort(x)\n",
    "```\n",
    "which results in:\n",
    "```\n",
    "[5, 3, 7, 0, 1, 2, 6, 4]\n",
    "```\n",
    "since $-3.8$ had an index $5$ in the original array, $-1$ had an index $3$ and so on.\n"
   ]
  },
  {
   "cell_type": "code",
   "execution_count": null,
   "metadata": {
    "id": "nE0c6ni4oLtC"
   },
   "outputs": [],
   "source": [
    "#Example code for clarity:\n",
    "import numpy as np\n",
    "X = np.array([[2,0],[1,1]]) #simple 2x2 matrix\n",
    "a = np.sum(X, axis=0)\n",
    "b = np.sum(X, axis=1)\n",
    "print('Matrix:')\n",
    "print(X)\n",
    "print('Sum of elements: ', np.sum(X))\n",
    "print('Sum of rows: ', a)\n",
    "print('Sum of columns: ',b)\n",
    "print('Element wise product of the two vectors above: ', a*b)\n",
    "print('Matrix multiplied by the first vector:')\n",
    "print(X*a)\n",
    "print('Matrix vector multiplication:')\n",
    "print(np.matmul(X,a))"
   ]
  }
 ],
 "metadata": {
  "anaconda-cloud": {},
  "colab": {
   "collapsed_sections": [],
   "provenance": []
  },
  "kernelspec": {
   "display_name": "Python 3 (ipykernel)",
   "language": "python",
   "name": "python3"
  },
  "language_info": {
   "codemirror_mode": {
    "name": "ipython",
    "version": 3
   },
   "file_extension": ".py",
   "mimetype": "text/x-python",
   "name": "python",
   "nbconvert_exporter": "python",
   "pygments_lexer": "ipython3",
   "version": "3.10.0"
  },
  "nbpresent": {
   "slides": {
    "003ac640-a8f5-4c8b-b027-0e6ac5aeadf1": {
     "id": "003ac640-a8f5-4c8b-b027-0e6ac5aeadf1",
     "prev": "8d64b922-1033-4abd-a055-ddeb2c4e7eae",
     "regions": {
      "e9983e0e-b2ab-4121-8c1d-fc0a2876df24": {
       "attrs": {
        "height": 0.8,
        "width": 0.8,
        "x": 0.1,
        "y": 0.1
       },
       "content": {
        "cell": "38d255ea-801f-4fba-ab56-69e7e76acd51",
        "part": "whole"
       },
       "id": "e9983e0e-b2ab-4121-8c1d-fc0a2876df24"
      }
     }
    },
    "05494ce9-75ca-4221-b16a-ac644d2e048b": {
     "id": "05494ce9-75ca-4221-b16a-ac644d2e048b",
     "prev": null,
     "regions": {
      "2676a39b-6407-433a-9f75-7af1a78ae1d4": {
       "attrs": {
        "height": 0.8,
        "width": 0.8,
        "x": 0.1,
        "y": 0.1
       },
       "content": {
        "cell": "41110e57-97d0-4804-9dd1-1b45e3b94408",
        "part": "whole"
       },
       "id": "2676a39b-6407-433a-9f75-7af1a78ae1d4"
      }
     }
    },
    "263d6249-cc7a-4aea-9cfa-6617d85c17e6": {
     "id": "263d6249-cc7a-4aea-9cfa-6617d85c17e6",
     "prev": "f0ac56f7-b949-4bfb-9d58-5f21384631c7",
     "regions": {
      "711f5e4d-ba0b-455e-b7cc-a20386b48ce1": {
       "attrs": {
        "height": 0.8,
        "width": 0.8,
        "x": 0.1,
        "y": 0.1
       },
       "content": {
        "cell": "7e906668-803f-4a7d-b0fd-4f3089134a41",
        "part": "whole"
       },
       "id": "711f5e4d-ba0b-455e-b7cc-a20386b48ce1"
      }
     }
    },
    "2b528880-956d-4a77-bc69-57453e9d090c": {
     "id": "2b528880-956d-4a77-bc69-57453e9d090c",
     "prev": "05494ce9-75ca-4221-b16a-ac644d2e048b",
     "regions": {
      "abecb19d-49c3-4f0f-b8f5-b92fb41f0327": {
       "attrs": {
        "height": 1,
        "width": 1,
        "x": 0,
        "y": 0
       },
       "content": {
        "cell": "f2f60dbd-7be9-4de7-927a-010e92eae10d",
        "part": "source"
       },
       "id": "abecb19d-49c3-4f0f-b8f5-b92fb41f0327"
      }
     }
    },
    "4f35be28-2fcd-46a4-b5a3-fe55a597adfd": {
     "id": "4f35be28-2fcd-46a4-b5a3-fe55a597adfd",
     "prev": "629563e2-8a4d-430e-b34d-1a4b571ebcea",
     "regions": {
      "b765e0d2-b763-4e10-8a98-883b4219d388": {
       "attrs": {
        "height": 0.8,
        "width": 0.8,
        "x": 0.1,
        "y": 0.1
       },
       "content": {
        "cell": "1e8578a7-1bef-4fed-869d-c87609066916",
        "part": "whole"
       },
       "id": "b765e0d2-b763-4e10-8a98-883b4219d388"
      }
     }
    },
    "55ed7ebd-6236-4e2a-9c81-4f7893bd521f": {
     "id": "55ed7ebd-6236-4e2a-9c81-4f7893bd521f",
     "prev": "db6ec664-6432-48b8-9e85-c4ad92c452df",
     "regions": {
      "537b090d-c4bb-4ee0-a833-428c4c844595": {
       "attrs": {
        "height": 0.8,
        "width": 0.8,
        "x": 0.1,
        "y": 0.1
       },
       "content": {
        "cell": "007f0881-3c51-4917-a240-1f116e9fae5a",
        "part": "whole"
       },
       "id": "537b090d-c4bb-4ee0-a833-428c4c844595"
      }
     }
    },
    "5dfc3530-5606-47b4-bac8-0e0a486fdac9": {
     "id": "5dfc3530-5606-47b4-bac8-0e0a486fdac9",
     "prev": "4f35be28-2fcd-46a4-b5a3-fe55a597adfd",
     "regions": {
      "99424017-13b7-41b3-92b3-ca4a7fe4420a": {
       "attrs": {
        "height": 0.8,
        "width": 0.8,
        "x": 0.1,
        "y": 0.1
       },
       "content": {
        "cell": "fb623811-b04a-4d47-af02-0cd3cec98fe6",
        "part": "whole"
       },
       "id": "99424017-13b7-41b3-92b3-ca4a7fe4420a"
      }
     }
    },
    "629563e2-8a4d-430e-b34d-1a4b571ebcea": {
     "id": "629563e2-8a4d-430e-b34d-1a4b571ebcea",
     "prev": "263d6249-cc7a-4aea-9cfa-6617d85c17e6",
     "regions": {
      "7231e74f-1f96-4232-9cbd-90d4b4d5ff85": {
       "attrs": {
        "height": 0.8,
        "width": 0.8,
        "x": 0.1,
        "y": 0.1
       },
       "content": {
        "cell": "8d1c2eb3-1201-498b-b32a-497e637c14a8",
        "part": "whole"
       },
       "id": "7231e74f-1f96-4232-9cbd-90d4b4d5ff85"
      }
     }
    },
    "7475f926-f89b-42f0-8015-429173586f4c": {
     "id": "7475f926-f89b-42f0-8015-429173586f4c",
     "prev": "ae862604-31f3-4c8c-a167-8a0589451087",
     "regions": {
      "a066f518-4006-4745-a05d-55a724a6a3c3": {
       "attrs": {
        "height": 0.8,
        "width": 0.8,
        "x": 0.1,
        "y": 0.1
       },
       "content": {
        "cell": "12ebd12c-de0d-49fc-85cf-34c577d92e67",
        "part": "whole"
       },
       "id": "a066f518-4006-4745-a05d-55a724a6a3c3"
      }
     }
    },
    "756d45cc-ddef-4bab-b5da-ded2e63922ff": {
     "id": "756d45cc-ddef-4bab-b5da-ded2e63922ff",
     "prev": "90aa1e90-3ede-4b9b-9669-b56ae40d3db9",
     "regions": {
      "765ab9b4-2254-4619-b548-caa0ab66f7c1": {
       "attrs": {
        "height": 0.8,
        "width": 0.8,
        "x": 0.1,
        "y": 0.1
       },
       "content": {
        "cell": "3b3a3e98-01cc-48f4-8438-eb41337b7304",
        "part": "whole"
       },
       "id": "765ab9b4-2254-4619-b548-caa0ab66f7c1"
      }
     }
    },
    "89942d57-ec75-4422-8640-62f46f514cbc": {
     "id": "89942d57-ec75-4422-8640-62f46f514cbc",
     "prev": "2b528880-956d-4a77-bc69-57453e9d090c",
     "regions": {
      "36e974df-3740-475f-9735-55326420feb8": {
       "attrs": {
        "height": 0.8,
        "width": 0.8,
        "x": 0.1,
        "y": 0.1
       },
       "content": {
        "cell": "f2f60dbd-7be9-4de7-927a-010e92eae10d",
        "part": "whole"
       },
       "id": "36e974df-3740-475f-9735-55326420feb8"
      }
     }
    },
    "8be7057d-0f78-48a0-8d0f-177221287eb7": {
     "id": "8be7057d-0f78-48a0-8d0f-177221287eb7",
     "prev": "89942d57-ec75-4422-8640-62f46f514cbc",
     "regions": {
      "cc46965a-9581-464a-8f1a-74c5630d6e49": {
       "attrs": {
        "height": 0.8,
        "width": 0.8,
        "x": 0.1,
        "y": 0.1
       },
       "content": {
        "cell": "28bcc5d9-2f18-4692-9b74-69ba03d2d736",
        "part": "whole"
       },
       "id": "cc46965a-9581-464a-8f1a-74c5630d6e49"
      }
     }
    },
    "8d64b922-1033-4abd-a055-ddeb2c4e7eae": {
     "id": "8d64b922-1033-4abd-a055-ddeb2c4e7eae",
     "prev": "e14ca282-9249-4eb1-8955-c492117fcf80",
     "regions": {
      "16343b66-ba3b-4f10-93dd-174441d44548": {
       "attrs": {
        "height": 0.8,
        "width": 0.8,
        "x": 0.1,
        "y": 0.1
       },
       "content": {
        "cell": "183fbe85-0dbc-413a-9516-e5475b071825",
        "part": "whole"
       },
       "id": "16343b66-ba3b-4f10-93dd-174441d44548"
      }
     }
    },
    "90aa1e90-3ede-4b9b-9669-b56ae40d3db9": {
     "id": "90aa1e90-3ede-4b9b-9669-b56ae40d3db9",
     "prev": "003ac640-a8f5-4c8b-b027-0e6ac5aeadf1",
     "regions": {
      "61663704-4d58-4eaa-a447-d994a52948b5": {
       "attrs": {
        "height": 0.8,
        "width": 0.8,
        "x": 0.1,
        "y": 0.1
       },
       "content": {
        "cell": "3b20cbb7-f983-4363-868d-d6c55d4d5cb5",
        "part": "whole"
       },
       "id": "61663704-4d58-4eaa-a447-d994a52948b5"
      }
     }
    },
    "a5e88670-b948-4f96-9e83-cdcc468b1497": {
     "id": "a5e88670-b948-4f96-9e83-cdcc468b1497",
     "prev": "756d45cc-ddef-4bab-b5da-ded2e63922ff",
     "regions": {
      "b2641fbc-b1cd-4d5b-8cbb-d20fe8f8ed0c": {
       "attrs": {
        "height": 0.8,
        "width": 0.8,
        "x": 0.1,
        "y": 0.1
       },
       "content": {
        "cell": "a409fa73-0f40-4da8-9604-1ed13470f072",
        "part": "whole"
       },
       "id": "b2641fbc-b1cd-4d5b-8cbb-d20fe8f8ed0c"
      }
     }
    },
    "ae862604-31f3-4c8c-a167-8a0589451087": {
     "id": "ae862604-31f3-4c8c-a167-8a0589451087",
     "prev": "af6a2d33-8f4d-4f7f-8013-a25782a68307",
     "regions": {
      "c4b5c96a-e96a-465a-bb96-b168f9bc78a4": {
       "attrs": {
        "height": 0.8,
        "width": 0.8,
        "x": 0.1,
        "y": 0.1
       },
       "content": {
        "cell": "12ec6fd0-6959-4ae7-9ec1-f9067deaff51",
        "part": "whole"
       },
       "id": "c4b5c96a-e96a-465a-bb96-b168f9bc78a4"
      }
     }
    },
    "af6a2d33-8f4d-4f7f-8013-a25782a68307": {
     "id": "af6a2d33-8f4d-4f7f-8013-a25782a68307",
     "prev": "5dfc3530-5606-47b4-bac8-0e0a486fdac9",
     "regions": {
      "48bf757d-827a-4fc0-bfbf-688a1c7d4ea8": {
       "attrs": {
        "height": 0.8,
        "width": 0.8,
        "x": 0.1,
        "y": 0.1
       },
       "content": {
        "cell": "a5b1917d-b79a-4d22-911c-7a24dcecdb7d",
        "part": "whole"
       },
       "id": "48bf757d-827a-4fc0-bfbf-688a1c7d4ea8"
      }
     }
    },
    "d21bc81d-3e18-44ce-9022-0eeddbbfdcb2": {
     "id": "d21bc81d-3e18-44ce-9022-0eeddbbfdcb2",
     "prev": "8be7057d-0f78-48a0-8d0f-177221287eb7",
     "regions": {
      "a0d5d2d6-22a3-44a4-a469-5df3136014b8": {
       "attrs": {
        "height": 0.8,
        "width": 0.8,
        "x": 0.1,
        "y": 0.1
       },
       "content": {
        "cell": "24d704ad-05f0-4cdf-882f-6d62b76cb013",
        "part": "whole"
       },
       "id": "a0d5d2d6-22a3-44a4-a469-5df3136014b8"
      }
     }
    },
    "d26f277e-13ce-4ba4-863f-f80890aa89c2": {
     "id": "d26f277e-13ce-4ba4-863f-f80890aa89c2",
     "prev": "f0bbe2b4-6625-48e3-a7cc-a08713827f82",
     "regions": {
      "8582c75c-cee0-48ff-8c27-b46d7b410013": {
       "attrs": {
        "height": 0.8,
        "width": 0.8,
        "x": 0.1,
        "y": 0.1
       },
       "content": {
        "cell": "66396899-f4bc-4ebe-a077-6ec5e7d6f072",
        "part": "whole"
       },
       "id": "8582c75c-cee0-48ff-8c27-b46d7b410013"
      }
     }
    },
    "d9681443-ffd4-430c-91a0-393e3ee9999c": {
     "id": "d9681443-ffd4-430c-91a0-393e3ee9999c",
     "prev": "55ed7ebd-6236-4e2a-9c81-4f7893bd521f",
     "regions": {
      "c9b9d00d-d7e4-4c73-bc48-6a649b3ff069": {
       "attrs": {
        "height": 0.8,
        "width": 0.8,
        "x": 0.1,
        "y": 0.1
       },
       "content": {
        "cell": "502eb46a-ce90-449c-8036-34bbc4124eb3",
        "part": "whole"
       },
       "id": "c9b9d00d-d7e4-4c73-bc48-6a649b3ff069"
      }
     }
    },
    "db6ec664-6432-48b8-9e85-c4ad92c452df": {
     "id": "db6ec664-6432-48b8-9e85-c4ad92c452df",
     "prev": "d21bc81d-3e18-44ce-9022-0eeddbbfdcb2",
     "regions": {
      "d0bf8a30-7fad-4807-bce8-5241930f699a": {
       "attrs": {
        "height": 0.8,
        "width": 0.8,
        "x": 0.1,
        "y": 0.1
       },
       "content": {
        "cell": "08fc67ec-76b1-418d-9d24-410fb46c8320",
        "part": "whole"
       },
       "id": "d0bf8a30-7fad-4807-bce8-5241930f699a"
      }
     }
    },
    "e14ca282-9249-4eb1-8955-c492117fcf80": {
     "id": "e14ca282-9249-4eb1-8955-c492117fcf80",
     "prev": "d9681443-ffd4-430c-91a0-393e3ee9999c",
     "regions": {
      "bfc2409b-262c-4fea-9d82-4a81a1bf96a4": {
       "attrs": {
        "height": 0.8,
        "width": 0.8,
        "x": 0.1,
        "y": 0.1
       },
       "content": {
        "cell": "80ce218c-e4c6-4ada-8a50-acacb9861ecc",
        "part": "whole"
       },
       "id": "bfc2409b-262c-4fea-9d82-4a81a1bf96a4"
      }
     }
    },
    "f0ac56f7-b949-4bfb-9d58-5f21384631c7": {
     "id": "f0ac56f7-b949-4bfb-9d58-5f21384631c7",
     "prev": "d26f277e-13ce-4ba4-863f-f80890aa89c2",
     "regions": {
      "c0663418-f0d7-4524-8c26-2fc5af9c5dc8": {
       "attrs": {
        "height": 0.8,
        "width": 0.8,
        "x": 0.1,
        "y": 0.1
       },
       "content": {
        "cell": "c0f6ee87-2c35-48a4-836b-24a5e5827f99",
        "part": "whole"
       },
       "id": "c0663418-f0d7-4524-8c26-2fc5af9c5dc8"
      }
     }
    },
    "f0bbe2b4-6625-48e3-a7cc-a08713827f82": {
     "id": "f0bbe2b4-6625-48e3-a7cc-a08713827f82",
     "prev": "a5e88670-b948-4f96-9e83-cdcc468b1497",
     "regions": {
      "45216f6b-0f62-4367-80c9-5a280b55920c": {
       "attrs": {
        "height": 0.8,
        "width": 0.8,
        "x": 0.1,
        "y": 0.1
       },
       "content": {
        "cell": "7d695135-5b1c-417d-be91-48947121f05e",
        "part": "whole"
       },
       "id": "45216f6b-0f62-4367-80c9-5a280b55920c"
      }
     }
    }
   },
   "themes": {}
  }
 },
 "nbformat": 4,
 "nbformat_minor": 1
}
